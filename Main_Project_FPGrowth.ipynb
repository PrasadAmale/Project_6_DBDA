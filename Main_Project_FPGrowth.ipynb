{
 "cells": [
  {
   "cell_type": "code",
   "execution_count": 1,
   "id": "7f02d051",
   "metadata": {},
   "outputs": [],
   "source": [
    "import findspark\n",
    "findspark.init(\"C:/spark/spark-3.3.2-bin-hadoop2\")\n",
    "import pyspark\n",
    "import warnings\n",
    "warnings.filterwarnings('ignore')\n",
    "\n",
    "import numpy as np\n",
    "import pandas as pd\n",
    "import matplotlib.pyplot as plt\n",
    "%matplotlib inline\n",
    "import seaborn as sns\n",
    "color = sns.color_palette()\n",
    "%matplotlib inline\n",
    "pd.options.mode.chained_assignment = None  # default='warn'\n",
    "from mlxtend.frequent_patterns import apriori\n",
    "from mlxtend.frequent_patterns import association_rules\n",
    "\n",
    "from pyspark.ml.feature import StringIndexer\n",
    "from pyspark.sql import SQLContext, SparkSession\n",
    "from pyspark.sql.functions import *\n",
    "import numpy as np\n",
    "from pyspark.sql import SparkSession\n",
    "from pyspark.sql.functions import col, count\n",
    "from pyspark.sql.window import Window\n",
    "from pyspark.sql import functions as F\n",
    "from pyspark.sql.functions import udf"
   ]
  },
  {
   "cell_type": "code",
   "execution_count": 2,
   "id": "dda016f7",
   "metadata": {},
   "outputs": [],
   "source": [
    "spark = SparkSession.Builder().appName('Project').getOrCreate()\n",
    "sqlCtx = SQLContext(spark)"
   ]
  },
  {
   "cell_type": "code",
   "execution_count": 3,
   "id": "e00e39c5",
   "metadata": {},
   "outputs": [],
   "source": [
    "# Importing the data :\n",
    "orders = spark.read.csv(\"Input/orders.csv\", header='true', inferSchema='true')\n",
    "products = spark.read.csv(\"Input/products.csv\", header='true', inferSchema='true')\n",
    "order_products_prior= spark.read.csv(\"Input/order_products__prior.csv\", header='true', inferSchema='true')\n",
    "\n",
    "# Merging The data :\n",
    "df_merged = order_products_prior.join(orders, on=\"order_id\",how=\"left\")\n",
    "df_merged = df_merged.join(products,on=\"product_id\",how=\"left\")\n"
   ]
  },
  {
   "cell_type": "code",
   "execution_count": 4,
   "id": "afe97a7f",
   "metadata": {},
   "outputs": [],
   "source": [
    "# Most sold Product\n",
    "product_counts = df_merged.groupBy(\"product_name\"\n",
    "                                  ).agg({\"product_id\": \"count\"}\n",
    "                                        ).withColumnRenamed(\"count(product_id)\", \"Frq_sold\"\n",
    "                                                           ).orderBy(col(\"Frq_sold\").desc())"
   ]
  },
  {
   "cell_type": "code",
   "execution_count": 5,
   "id": "f431ba0e",
   "metadata": {},
   "outputs": [],
   "source": [
    "filtered_products = product_counts.filter(col(\"Frq_sold\") > 100000)"
   ]
  },
  {
   "cell_type": "code",
   "execution_count": 6,
   "id": "c107aa8a",
   "metadata": {},
   "outputs": [],
   "source": [
    "df_merged = df_merged.join(filtered_products, on=\"product_name\")"
   ]
  },
  {
   "cell_type": "code",
   "execution_count": 7,
   "id": "e6463ce9",
   "metadata": {},
   "outputs": [],
   "source": [
    "df = df_merged[[\"order_id\",\"product_name\"]]"
   ]
  },
  {
   "cell_type": "code",
   "execution_count": 8,
   "id": "83a9e92d",
   "metadata": {},
   "outputs": [],
   "source": [
    "basket = df.groupBy(\"order_id\").agg(collect_list(col(\"product_name\")).alias(\"list_of_values\"))"
   ]
  },
  {
   "cell_type": "code",
   "execution_count": 9,
   "id": "022fb96e",
   "metadata": {},
   "outputs": [],
   "source": [
    "from pyspark.ml.fpm import FPGrowth\n",
    "from pyspark.sql.functions import col\n",
    "\n",
    "# Assuming df_transactions is your DataFrame with columns: transaction_id, items\n",
    "df_transactions = basket\n",
    "\n",
    "# FPGrowth requires a DataFrame with a column of arrays containing items\n",
    "# Assuming you have a column 'items' that contains arrays of transaction items\n",
    "df_items = df_transactions.select(\"list_of_values\")\n",
    "\n",
    "# Configure and train the FPGrowth model\n",
    "fp_growth = FPGrowth(itemsCol=\"list_of_values\",minConfidence=0.01 , minSupport=0.01, predictionCol='prediction')\n",
    "model = fp_growth.fit(df_items)\n"
   ]
  },
  {
   "cell_type": "code",
   "execution_count": 13,
   "id": "482c1156",
   "metadata": {},
   "outputs": [],
   "source": [
    "# Generate frequent itemsets\n",
    "frequent_itemsets = model.freqItemsets\n",
    "\n",
    "# Generate association rules\n",
    "association_rules = model.associationRules\n",
    "\n",
    "# Saving Output frequent itemsets and association rules\n",
    "output_path = f\"Output/FPGrowth/frequent_itemsets\"\n",
    "frequent_itemsets = frequent_itemsets.coalesce(1)\n",
    "frequent_itemsets.write.parquet(output_path, mode=\"overwrite\")\n",
    "\n",
    "output_path = f\"Output/FPGrowth/association_rules\"\n",
    "association_rules = association_rules.coalesce(1)\n",
    "association_rules.write.parquet(output_path, mode=\"overwrite\")"
   ]
  },
  {
   "cell_type": "code",
   "execution_count": 14,
   "id": "96f53a9a",
   "metadata": {},
   "outputs": [],
   "source": [
    "# rules_pandas = association_rules.toPandas()\n",
    "# rules_pandas.sort_values(\"support\")[::-1]"
   ]
  },
  {
   "cell_type": "code",
   "execution_count": 15,
   "id": "d5a875cd",
   "metadata": {},
   "outputs": [
    {
     "data": {
      "text/plain": [
       "'for index, rule in rules_pandas.iterrows():\\n    antecedents = \\', \\'.join(rule[\\'antecedent\\'])\\n    consequents = \\', \\'.join(rule[\\'consequent\\'])\\n    support = rule[\\'support\\']\\n    confidence = rule[\\'confidence\\']\\n    lift = rule[\\'lift\\']\\n    \\n    print(f\"Rule #{index+1}:\")\\n    print(f\"Antecedents: {antecedents}\")\\n    print(f\"Consequents: {consequents}\")\\n    print(f\"Support: {support}\")\\n    print(f\"Confidence: {confidence}\")\\n    print(f\"Lift: {lift}\")\\n    print(\"-----------------------------\")'"
      ]
     },
     "execution_count": 15,
     "metadata": {},
     "output_type": "execute_result"
    }
   ],
   "source": [
    "# printing Association Rules\n",
    "'''for index, rule in rules_pandas.iterrows():\n",
    "    antecedents = ', '.join(rule['antecedent'])\n",
    "    consequents = ', '.join(rule['consequent'])\n",
    "    support = rule['support']\n",
    "    confidence = rule['confidence']\n",
    "    lift = rule['lift']\n",
    "    \n",
    "    print(f\"Rule #{index+1}:\")\n",
    "    print(f\"Antecedents: {antecedents}\")\n",
    "    print(f\"Consequents: {consequents}\")\n",
    "    print(f\"Support: {support}\")\n",
    "    print(f\"Confidence: {confidence}\")\n",
    "    print(f\"Lift: {lift}\")\n",
    "    print(\"-----------------------------\")'''"
   ]
  },
  {
   "cell_type": "code",
   "execution_count": null,
   "id": "97ff9099",
   "metadata": {},
   "outputs": [],
   "source": [
    "\n"
   ]
  },
  {
   "cell_type": "code",
   "execution_count": null,
   "id": "ff88b3f1",
   "metadata": {},
   "outputs": [],
   "source": []
  },
  {
   "cell_type": "code",
   "execution_count": null,
   "id": "d797a806",
   "metadata": {},
   "outputs": [],
   "source": []
  }
 ],
 "metadata": {
  "kernelspec": {
   "display_name": "Python 3 (ipykernel)",
   "language": "python",
   "name": "python3"
  },
  "language_info": {
   "codemirror_mode": {
    "name": "ipython",
    "version": 3
   },
   "file_extension": ".py",
   "mimetype": "text/x-python",
   "name": "python",
   "nbconvert_exporter": "python",
   "pygments_lexer": "ipython3",
   "version": "3.11.4"
  }
 },
 "nbformat": 4,
 "nbformat_minor": 5
}
