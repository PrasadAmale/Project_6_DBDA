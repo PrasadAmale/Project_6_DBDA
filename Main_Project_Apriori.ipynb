{
 "cells": [
  {
   "cell_type": "code",
   "execution_count": 7,
   "id": "7fbb2632",
   "metadata": {},
   "outputs": [],
   "source": [
    "import pandas as pd\n",
    "import numpy as np\n",
    "import matplotlib.pyplot as plt\n",
    "import seaborn as sns\n",
    "import warnings\n",
    "warnings.filterwarnings('ignore')"
   ]
  },
  {
   "cell_type": "code",
   "execution_count": 17,
   "id": "dc8c4b63",
   "metadata": {},
   "outputs": [],
   "source": [
    "#importing files for reading data.\n",
    "import os\n",
    "\n",
    "#importing libraries for profiling\n",
    "from ydata_profiling import ProfileReport\n",
    "\n",
    "\n",
    "#libraries for performing market basket analysis.\n",
    "import tensorflow as tf\n",
    "\n",
    "from tensorflow.keras.layers import Dense\n",
    "from sklearn.metrics import accuracy_score\n",
    "# from mlxtend.frequent_patterns import eclat\n",
    "from mlxtend.frequent_patterns import apriori, association_rules\n",
    "from tensorflow.keras.models import Sequential\n",
    "from mlxtend.frequent_patterns import fpgrowth\n",
    "from sklearn.tree import DecisionTreeClassifier\n",
    "from sklearn.ensemble import RandomForestClassifier\n",
    "from sklearn.model_selection import train_test_split\n",
    "from mlxtend.frequent_patterns import association_rules\n",
    "from sklearn.ensemble import GradientBoostingClassifier"
   ]
  },
  {
   "cell_type": "code",
   "execution_count": 18,
   "id": "778e073d",
   "metadata": {},
   "outputs": [],
   "source": [
    "# Importing Data :\n",
    "order_product_df = pd.read_csv(\"Input/order_products__prior.csv\")\n",
    "orders_df = pd.read_csv(\"Input/orders.csv\")\n",
    "products_df = pd.read_csv(\"Input/products.csv\")\n",
    "aisles_df = pd.read_csv(\"Input/aisles.csv\")\n",
    "departments_df = pd.read_csv(\"Input/departments.csv\")\n",
    "\n",
    "# Merge the datasets\n",
    "merged_data = pd.merge(orders_df, order_product_df, on='order_id')\n",
    "merged_data = pd.merge(merged_data,products_df,on='product_id')\n",
    "\n",
    "# Convert the data to a one-hot encoded format\n",
    "merged = pd.merge(order_product_df, orders_df, on='order_id', how='left')\n",
    "merged = pd.merge(merged, products_df, on='product_id', how='left')\n",
    "\n",
    "merged = merged[merged['product_id'].map(merged['product_id'].value_counts()) > 100000]\n",
    "\n",
    "del order_product_df\n",
    "del aisles_df\n",
    "del departments_df\n",
    "del orders_df\n",
    "del products_df\n",
    "del merged_data"
   ]
  },
  {
   "cell_type": "code",
   "execution_count": 19,
   "id": "3264bd3f",
   "metadata": {},
   "outputs": [],
   "source": [
    "def hot_encode(x):\n",
    "    if(x<= 0):\n",
    "        return 0\n",
    "    if(x>= 1):\n",
    "        return 1\n",
    "\n",
    "# Convert data to basket format\n",
    "\n",
    "basket = merged.groupby(['order_id', 'product_name'])['order_id'].count().unstack().reset_index().fillna(0).set_index('order_id')\n",
    "basket = basket.applymap(hot_encode)"
   ]
  },
  {
   "cell_type": "code",
   "execution_count": 20,
   "id": "10172d1a",
   "metadata": {},
   "outputs": [],
   "source": [
    "# Apply Apriori algorithm on training set to find frequent itemsets\n",
    "frequent_itemsets= apriori(basket, min_support=0.01, use_colnames=True)\n",
    "\n",
    "# Generate association rules from frequent itemsets\n",
    "rules = association_rules(frequent_itemsets, metric=\"lift\", min_threshold=1)\n",
    "\n",
    "# Saving Output frequent itemsets and association rules\n",
    "output_path = f\"Output/Apriori/frequent_itemsets.csv\"\n",
    "frequent_itemsets.to_csv(output_path, index=False)\n",
    "\n",
    "output_path = f\"Output/Apriori/association_rules.csv\"\n",
    "rules.to_csv(output_path, index=False)"
   ]
  },
  {
   "cell_type": "code",
   "execution_count": 21,
   "id": "0586ff83",
   "metadata": {},
   "outputs": [
    {
     "data": {
      "text/plain": [
       "'print(\"Frequent Itemsets:\")\\nfor index, itemset in frequent_itemsets.iterrows():\\n    print(itemset[\\'itemsets\\'], \"Support:\", round(itemset[\\'support\\'],3))'"
      ]
     },
     "execution_count": 21,
     "metadata": {},
     "output_type": "execute_result"
    }
   ],
   "source": [
    "# Printing Frequent Items Set\n",
    "'''print(\"Frequent Itemsets:\")\n",
    "for index, itemset in frequent_itemsets.iterrows():\n",
    "    print(itemset['itemsets'], \"Support:\", round(itemset['support'],3))'''"
   ]
  },
  {
   "cell_type": "code",
   "execution_count": 22,
   "id": "31cbeb03",
   "metadata": {},
   "outputs": [
    {
     "data": {
      "text/plain": [
       "'for index, rule in rules.iterrows():\\n    antecedents = \\', \\'.join(rule[\\'antecedents\\'])\\n    consequents = \\', \\'.join(rule[\\'consequents\\'])\\n    support = rule[\\'support\\']\\n    confidence = rule[\\'confidence\\']\\n    lift = rule[\\'lift\\']\\n    \\n    print(f\"Rule #{index+1}:\")\\n    print(f\"Antecedents: {antecedents}\")\\n    print(f\"Consequents: {consequents}\")\\n    print(f\"Support: {support}\")\\n    print(f\"Confidence: {confidence}\")\\n    print(f\"Lift: {lift}\")\\n    print(\"-----\")'"
      ]
     },
     "execution_count": 22,
     "metadata": {},
     "output_type": "execute_result"
    }
   ],
   "source": [
    "# printing Association Rules\n",
    "'''for index, rule in rules.iterrows():\n",
    "    antecedents = ', '.join(rule['antecedents'])\n",
    "    consequents = ', '.join(rule['consequents'])\n",
    "    support = rule['support']\n",
    "    confidence = rule['confidence']\n",
    "    lift = rule['lift']\n",
    "    \n",
    "    print(f\"Rule #{index+1}:\")\n",
    "    print(f\"Antecedents: {antecedents}\")\n",
    "    print(f\"Consequents: {consequents}\")\n",
    "    print(f\"Support: {support}\")\n",
    "    print(f\"Confidence: {confidence}\")\n",
    "    print(f\"Lift: {lift}\")\n",
    "    print(\"-----\")'''"
   ]
  },
  {
   "cell_type": "code",
   "execution_count": null,
   "id": "590d27b1",
   "metadata": {},
   "outputs": [],
   "source": []
  },
  {
   "cell_type": "code",
   "execution_count": null,
   "id": "70ca816c",
   "metadata": {},
   "outputs": [],
   "source": []
  }
 ],
 "metadata": {
  "kernelspec": {
   "display_name": "Python 3 (ipykernel)",
   "language": "python",
   "name": "python3"
  },
  "language_info": {
   "codemirror_mode": {
    "name": "ipython",
    "version": 3
   },
   "file_extension": ".py",
   "mimetype": "text/x-python",
   "name": "python",
   "nbconvert_exporter": "python",
   "pygments_lexer": "ipython3",
   "version": "3.10.9"
  }
 },
 "nbformat": 4,
 "nbformat_minor": 5
}
